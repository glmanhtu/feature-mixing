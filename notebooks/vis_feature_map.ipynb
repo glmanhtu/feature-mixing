{
 "cells": [
  {
   "cell_type": "code",
   "execution_count": 4,
   "metadata": {},
   "outputs": [],
   "source": [
    "from main_classification import ModelWrapper\n",
    "from models.convformer import Model\n",
    "import torch\n",
    "\n",
    "import torchvision\n",
    "from utils.aug import Resize"
   ]
  },
  {
   "cell_type": "code",
   "execution_count": 151,
   "metadata": {},
   "outputs": [
    {
     "name": "stdout",
     "output_type": "stream",
     "text": [
      "Mixing features of size (512, 4, 16)\n"
     ]
    },
    {
     "data": {
      "text/plain": [
       "<All keys matched successfully>"
      ]
     },
     "execution_count": 151,
     "metadata": {},
     "output_type": "execute_result"
    }
   ],
   "source": [
    "p = '/caa/Homes01/mpeer/workspace-git/write/ssl_hisfrag/experiments/papyrow_color_classification_mixconv_20p_train-2023-04-29-21-48/model.pt'\n",
    "ckpt = torch.load(p)\n",
    "model = Model(img_size=(128,512))\n",
    "wrapper = ModelWrapper(model, 25, (128,512))\n",
    "\n",
    "wrapper.load_state_dict(ckpt['model_state_dict'])"
   ]
  },
  {
   "cell_type": "code",
   "execution_count": 185,
   "metadata": {},
   "outputs": [],
   "source": [
    "img = \"test_gt.png\" #/data/mpeer/papyri_1200/croppedImages/Hermauos_5/Hermauos_5_16.jpg\"\n",
    "test_tf = torchvision.transforms.Compose([\n",
    "    Resize(512),\n",
    "    torchvision.transforms.CenterCrop((128,512)),\n",
    "    torchvision.transforms.ToTensor(),\n",
    "    torchvision.transforms.Normalize(\n",
    "        mean=torch.tensor([0.485, 0.456, 0.406]),\n",
    "        std=torch.tensor([0.229, 0.224, 0.225])\n",
    "    )\n",
    "])"
   ]
  },
  {
   "cell_type": "code",
   "execution_count": 186,
   "metadata": {},
   "outputs": [],
   "source": [
    "from PIL import Image\n",
    "im = Image.open(img).convert('RGB')\n",
    "im.save('inp.png')\n",
    "m = wrapper.model.backbone\n",
    "m.model.layer4 = torch.nn.Identity()\n",
    "m.model.layer3 = torch.nn.Identity()\n",
    "m.model.layer2 = torch.nn.Identity()\n",
    "m.model.layer1[2] = torch.nn.Identity()\n",
    "m.model.layer1[1] = torch.nn.Identity()"
   ]
  },
  {
   "cell_type": "code",
   "execution_count": 187,
   "metadata": {},
   "outputs": [
    {
     "name": "stdout",
     "output_type": "stream",
     "text": [
      "torch.Size([1, 3, 128, 512])\n",
      "torch.Size([1, 64, 32, 128])\n"
     ]
    }
   ],
   "source": [
    "inp = test_tf(im).unsqueeze(0)\n",
    "print(inp.shape)\n",
    "fm = m(inp)\n",
    "print(fm.shape)"
   ]
  },
  {
   "cell_type": "code",
   "execution_count": null,
   "metadata": {},
   "outputs": [],
   "source": []
  },
  {
   "cell_type": "code",
   "execution_count": 193,
   "metadata": {},
   "outputs": [
    {
     "name": "stdout",
     "output_type": "stream",
     "text": [
      "(32, 128)\n"
     ]
    },
    {
     "data": {
      "text/plain": [
       "True"
      ]
     },
     "execution_count": 193,
     "metadata": {},
     "output_type": "execute_result"
    }
   ],
   "source": [
    "import matplotlib.pyplot as plt\n",
    "import cv2\n",
    "import numpy as np\n",
    "f = np.sum(fm[0].detach().numpy(), axis=0)\n",
    "f = fm[0,50].detach().numpy()\n",
    "print(f.shape)\n",
    "f = (f - f.min()) / (f.max()- f.min()) \n",
    "plt.imshow(f)\n",
    "plt.show()\n",
    "cv2.imwrite(\"test.png\", f*255)\n",
    "\n"
   ]
  },
  {
   "cell_type": "code",
   "execution_count": 195,
   "metadata": {},
   "outputs": [],
   "source": [
    "plt.tight_layout()\n",
    "plt.imshow(f, cmap='gray')\n",
    "plt.axis('off')\n",
    "plt.show()\n",
    "plt.savefig(\"test.jpg\",bbox_inches='tight')"
   ]
  },
  {
   "cell_type": "code",
   "execution_count": null,
   "metadata": {},
   "outputs": [],
   "source": []
  },
  {
   "cell_type": "code",
   "execution_count": null,
   "metadata": {},
   "outputs": [],
   "source": []
  }
 ],
 "metadata": {
  "kernelspec": {
   "display_name": "pip_env",
   "language": "python",
   "name": "python3"
  },
  "language_info": {
   "codemirror_mode": {
    "name": "ipython",
    "version": 3
   },
   "file_extension": ".py",
   "mimetype": "text/x-python",
   "name": "python",
   "nbconvert_exporter": "python",
   "pygments_lexer": "ipython3",
   "version": "3.10.6"
  },
  "orig_nbformat": 4
 },
 "nbformat": 4,
 "nbformat_minor": 2
}
