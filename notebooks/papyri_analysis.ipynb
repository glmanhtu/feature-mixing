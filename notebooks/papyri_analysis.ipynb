{
 "cells": [
  {
   "cell_type": "code",
   "execution_count": 31,
   "metadata": {},
   "outputs": [],
   "source": [
    "import os, glob, random\n",
    "from pathlib import Path\n",
    "random.seed(42)\n",
    "import numpy as np"
   ]
  },
  {
   "cell_type": "code",
   "execution_count": 32,
   "metadata": {},
   "outputs": [],
   "source": [
    "data = '/data/mpeer/papyri_1200/'\n",
    "dirs = os.listdir(f'{data}croppedImages/')"
   ]
  },
  {
   "cell_type": "code",
   "execution_count": 33,
   "metadata": {},
   "outputs": [
    {
     "name": "stdout",
     "output_type": "stream",
     "text": [
      "['ApaRhasios_1', 'Victor2_1', 'ApaRhasios_4', 'kyros1_4', 'Hermauos_4', 'Pilatos_4', 'Andreas_4', 'Ieremias_2', 'Victor_6', 'Theodosios_4', 'Dios_15', 'Abraamios_21', 'Dios_1', 'Abraamios_11', 'Dios_11', 'Dios_3', 'Isak_6', 'kyros3_5', 'Andreas_6', 'Pilatos_5', 'Victor_3', 'Isak_3', 'Dioscorus_3', 'Dioscorus_4', 'Abraamios_20', 'Abraamios_18', 'kyros3_4', 'Pilatos_6', 'Dioscorus_2', 'Abraamios_3', 'Menas_4', 'Pilatos_8', 'Pilatos_1', 'ApaRhasios_3', 'Dios_13', 'Andreas_5', 'Isak_2', 'kyros1_7', 'Abraamios_16', 'Pilatos_10', 'Abraamios_4', 'kyros3_3', 'Dios_12', 'Theodosios_5', 'kyros1_8', 'Kyros1_1', 'Pilatos_9', 'Dios_6', 'Kollouthos_1', 'Amais_1', 'Kyros1_6', 'Victor_8', 'Abraamios_12', 'Victor_11-1', 'Victor_11-2', 'Kollouthos_2', 'Abraamios_19', 'Menas_3', 'Kyros1_3', 'Theodosios_1', 'Abraamios_6', 'Kyros3_1', 'Konstantinos_1', 'Menas_2', 'Victor_7', 'Philotheos_2', 'Ieremias_1', 'Philotheos_1', 'Kyros2_1', 'Isak_7', 'Isak_8', 'Andreas_8', 'Pilatos_3', 'Pilatos_2', 'Dios_7', 'Abraamios_7', 'Dios_8', 'Victor_10', 'Abraamios_2', 'Anouphis_1', 'Hermauos_5', 'Victor_5', 'Hermauos_1', 'Daueit_1', 'Kyros1_10', 'Menas_1', 'Psates_2', 'Victor_2', 'Dioscorus_1', 'Psates_1', 'Isak_4', 'Victor_12', 'Abraamios_17', 'Hermauos_2', 'Menas_5', 'Abraamios_5', 'Abraamios_9', 'Dios_14', 'Dios_4', 'Abraamios_8', 'Dios_9', 'Dioscorus_5', 'Dios_2', 'Kyros3_2', 'Theodosios_2', 'Philotheos_3', 'Dios_5', 'Dios_10', 'Abraamios_14', 'Abraamios_15', 'Konstantinos_2', 'Hermauos_3', 'Pilatos_7', 'Isak_1', 'Isak_5', 'Abraamios_10', 'Abraamios_1', 'Abraamios_13', 'Theodosios_3', 'ApaRhasios_2', 'Kyros1_5', 'kyros1_9']\n"
     ]
    }
   ],
   "source": [
    "print(dirs)\n"
   ]
  },
  {
   "cell_type": "code",
   "execution_count": 34,
   "metadata": {},
   "outputs": [],
   "source": [
    "num_splits = 4\n",
    "def create_split():\n",
    "    authors = list(set([d.lower().split('_')[0] for d in dirs]))\n",
    "    authors = list(set([d[:-1] if d[-1] in '123' else d for d in authors]))\n",
    "    authors[authors.index('dios')] = 'dios_'\n",
    "    random.shuffle(authors)\n",
    "    splits = [list(a) for a in np.array_split(authors, num_splits)]\n",
    "    imgs = [[] for i in range(num_splits)]\n",
    "    author = lambda x : Path(x).name\n",
    "    for img in glob.glob(f'{data}/croppedImages/**/*.jpg', recursive=True):\n",
    "        a = author(img)\n",
    "        for idx, l in enumerate(splits):\n",
    "            for ax in l:\n",
    "                if a.lower().startswith(ax.lower()):\n",
    "                    imgs[idx].append(img)\n",
    "    return imgs, splits"
   ]
  },
  {
   "cell_type": "code",
   "execution_count": 37,
   "metadata": {},
   "outputs": [
    {
     "name": "stdout",
     "output_type": "stream",
     "text": [
      "[882, 2370, 1821, 1425]\n",
      "[1238, 3048, 1356, 856]\n",
      "[1319, 1118, 2490, 1571]\n",
      "[708, 1573, 2078, 2139]\n",
      "[979, 1417, 2214, 1888]\n",
      "[1697, 1414, 2178, 1209]\n",
      "[2623, 1266, 1370, 1239]\n",
      "[1735, 2010, 1982, 771]\n",
      "[1098, 1092, 2311, 1997]\n",
      "[1227, 1212, 2802, 1257]\n",
      "[2578, 1055, 1387, 1478]\n",
      "[1768, 964, 2154, 1612]\n",
      "[1536, 1820, 1015, 2127]\n",
      "[849, 1419, 2148, 2082]\n",
      "[1318, 1468, 2630, 1082]\n",
      "[1874, 1514, 1163, 1947]\n",
      "[2369, 1833, 1285, 1011]\n",
      "[1838, 1826, 1527, 1307]\n",
      "[1797, 2489, 1259, 953]\n",
      "[1462, 1947, 1624, 1465]\n",
      "[1583, 2328, 1719, 868]\n",
      "[1681, 2123, 1106, 1588]\n",
      "[1861, 1646, 1693, 1298]\n",
      "[1488, 2226, 1326, 1458]\n",
      "[1593, 1417, 1324, 2164]\n",
      "[965, 1699, 1844, 1990]\n",
      "[1490, 1465, 2286, 1257]\n",
      "[2129, 1633, 1257, 1479]\n",
      "[1401, 1956, 1500, 1641]\n",
      "[1140, 2054, 1445, 1859]\n",
      "[1655, 1679, 751, 2413]\n",
      "[991, 1644, 1534, 2329]\n",
      "[769, 1833, 1948, 1948]\n",
      "[1815, 1508, 1310, 1865]\n",
      "[2146, 836, 1931, 1585]\n",
      "[2000, 1177, 2025, 1296]\n",
      "[1990, 2102, 1471, 935]\n",
      "[2607, 1308, 1540, 1043]\n",
      "[1756, 2362, 1332, 1048]\n",
      "[1773, 1598, 2096, 1031]\n",
      "[2289, 1682, 829, 1698]\n",
      "[1311, 1232, 1941, 2014]\n",
      "[2818, 1480, 1127, 1073]\n",
      "[1427, 1540, 2297, 1234]\n",
      "[1729, 816, 2574, 1379]\n",
      "[1650, 2031, 1127, 1690]\n",
      "[1160, 2391, 1587, 1360]\n",
      "[1624, 2232, 1174, 1468]\n",
      "[1484, 2142, 1639, 1233]\n",
      "[2129, 2524, 741, 1104]\n",
      "[868, 1518, 1911, 2201]\n",
      "[1601, 1465, 2226, 1206]\n",
      "[2564, 1137, 1400, 1397]\n",
      "[1370, 2162, 1629, 1337]\n",
      "[1151, 1828, 1593, 1926]\n",
      "[1141, 2016, 1771, 1570]\n",
      "[1461, 1626, 2284, 1127]\n",
      "[1949, 1912, 1376, 1261]\n",
      "[1394, 829, 1751, 2524]\n",
      "[1552, 1825, 2091, 1030]\n",
      "[1646, 1035, 1744, 2073]\n",
      "[1399, 1169, 2045, 1885]\n",
      "[1338, 1611, 2091, 1458]\n",
      "[1699, 2094, 1509, 1196]\n",
      "[1921, 1888, 1096, 1593]\n",
      "[1293, 2190, 1693, 1322]\n",
      "[2065, 1921, 757, 1755]\n",
      "[1668, 1509, 1060, 2261]\n",
      "[1339, 1380, 1718, 2061]\n",
      "[1315, 2224, 1166, 1793]\n",
      "[1876, 997, 1700, 1925]\n",
      "[2421, 1449, 1330, 1298]\n",
      "[1949, 2035, 1301, 1213]\n",
      "[2362, 1629, 1247, 1260]\n",
      "[1477, 1694, 1479, 1848]\n",
      "[1725, 1504, 1599, 1670]\n",
      "[1416, 1674, 850, 2558]\n",
      "[1934, 1745, 1515, 1304]\n",
      "[2051, 1153, 1316, 1978]\n",
      "[1297, 1325, 2220, 1656]\n",
      "[1694, 1619, 1599, 1586]\n"
     ]
    }
   ],
   "source": [
    "while True:\n",
    "    imgs, split = create_split()\n",
    "    lens = [len(i) for i in imgs]\n",
    "    m = np.mean(lens)\n",
    "    print(lens)\n",
    "    if sum([True for i in imgs if 0.95 * m < len(i) < 1.05 * m]) == len(split):\n",
    "        break\n",
    "            \n",
    "   "
   ]
  },
  {
   "cell_type": "code",
   "execution_count": 38,
   "metadata": {},
   "outputs": [
    {
     "name": "stdout",
     "output_type": "stream",
     "text": [
      "[1694, 1619, 1599, 1586]\n",
      "[['kyros', 'philotheos', 'konstantinos', 'ieremias', 'aparhasios'], ['dios_', 'amais', 'kollouthos', 'menas', 'hermauos'], ['dioscorus', 'victor', 'theodosios', 'daueit', 'pilatos'], ['andreas', 'isak', 'psates', 'anouphis', 'abraamios']]\n",
      "6498\n"
     ]
    }
   ],
   "source": [
    "print([len(i) for i in imgs])\n",
    "print(split)\n",
    "print(sum([len(i) for i in imgs]))"
   ]
  },
  {
   "cell_type": "code",
   "execution_count": null,
   "metadata": {},
   "outputs": [],
   "source": []
  }
 ],
 "metadata": {
  "kernelspec": {
   "display_name": "unsupervised",
   "language": "python",
   "name": "python3"
  },
  "language_info": {
   "codemirror_mode": {
    "name": "ipython",
    "version": 3
   },
   "file_extension": ".py",
   "mimetype": "text/x-python",
   "name": "python",
   "nbconvert_exporter": "python",
   "pygments_lexer": "ipython3",
   "version": "3.10.6"
  },
  "orig_nbformat": 4
 },
 "nbformat": 4,
 "nbformat_minor": 2
}
